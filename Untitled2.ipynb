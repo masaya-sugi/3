{
 "cells": [
  {
   "cell_type": "code",
   "execution_count": 1,
   "metadata": {},
   "outputs": [],
   "source": [
    "import urllib.request\n",
    "\n",
    "url = \"https://en.wikipedia.org/wiki/List_of_postal_codes_of_Canada:_M\"\n",
    "\n",
    "page = urllib.request.urlopen(url)\n",
    "\n",
    "from bs4 import BeautifulSoup\n",
    "\n",
    "soup = BeautifulSoup(page, \"lxml\")\n",
    "\n",
    "table = soup.find(\"table\", {\"class\" : \"wikitable sortable\"})\n",
    "\n",
    "right_table=soup.find('table', class_='wikitable sortable')\n",
    "right_table\n",
    "\n",
    "A=[]\n",
    "B=[]\n",
    "C=[]\n",
    "\n",
    "for row in table.findAll('tr'):\n",
    "    cells=row.findAll('td')\n",
    "    if len(cells)==3:\n",
    "        A.append(cells[0].find(text=True))\n",
    "        B.append(cells[1].find(text=True))\n",
    "        C.append(cells[2].find(text=True))\n",
    "\n",
    "import pandas as pd\n",
    "df=pd.DataFrame(A,columns=['Postcode'])\n",
    "df['Borough']=B\n",
    "df['Neighbourhood']=C\n",
    "df\n",
    "\n",
    "new_df = df[df['Borough'] != 'Not assigned']\n",
    "\n",
    "new_df = new_df.groupby(['Postcode', 'Borough'])['Neighbourhood'].agg(' , '.join)\n",
    "new_df = pd.DataFrame(new_df)\n",
    "new_df.head()\n",
    "\n",
    "new_df = new_df.reset_index()\n",
    "\n",
    "final_df = pd.DataFrame(new_df)\n",
    "\n",
    "csv = pd.read_csv('Geospatial_Coordinates.csv')\n",
    "\n",
    "final_df[['Latitude', 'Longitude']] = csv[['Latitude', 'Longitude']]"
   ]
  },
  {
   "cell_type": "code",
   "execution_count": 2,
   "metadata": {},
   "outputs": [
    {
     "name": "stdout",
     "output_type": "stream",
     "text": [
      "East Toronto\n",
      "East Toronto\n",
      "East Toronto\n",
      "East Toronto\n",
      "Central Toronto\n",
      "Central Toronto\n",
      "Central Toronto\n",
      "Central Toronto\n",
      "Central Toronto\n",
      "Central Toronto\n",
      "Downtown Toronto\n",
      "Downtown Toronto\n",
      "Downtown Toronto\n",
      "Downtown Toronto\n",
      "Downtown Toronto\n",
      "Downtown Toronto\n",
      "Downtown Toronto\n",
      "Downtown Toronto\n",
      "Downtown Toronto\n",
      "Downtown Toronto\n",
      "Downtown Toronto\n",
      "Downtown Toronto\n",
      "Central Toronto\n",
      "Central Toronto\n",
      "Central Toronto\n",
      "Downtown Toronto\n",
      "Downtown Toronto\n",
      "Downtown Toronto\n",
      "Downtown Toronto\n",
      "Downtown Toronto\n",
      "Downtown Toronto\n",
      "West Toronto\n",
      "West Toronto\n",
      "West Toronto\n",
      "West Toronto\n",
      "West Toronto\n",
      "West Toronto\n",
      "East Toronto\n"
     ]
    }
   ],
   "source": [
    "for data in final_df['Borough']:\n",
    "    if 'Toronto' in data:\n",
    "        print(data)"
   ]
  }
 ],
 "metadata": {
  "kernelspec": {
   "display_name": "Python 3",
   "language": "python",
   "name": "python3"
  },
  "language_info": {
   "codemirror_mode": {
    "name": "ipython",
    "version": 3
   },
   "file_extension": ".py",
   "mimetype": "text/x-python",
   "name": "python",
   "nbconvert_exporter": "python",
   "pygments_lexer": "ipython3",
   "version": "3.7.1"
  }
 },
 "nbformat": 4,
 "nbformat_minor": 2
}
